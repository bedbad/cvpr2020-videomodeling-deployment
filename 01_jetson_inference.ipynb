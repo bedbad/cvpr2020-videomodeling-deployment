{
 "cells": [
  {
   "cell_type": "markdown",
   "metadata": {},
   "source": [
    "# Video Model Inference on Jetson"
   ]
  },
  {
   "cell_type": "code",
   "execution_count": 1,
   "metadata": {},
   "outputs": [
    {
     "name": "stdout",
     "output_type": "stream",
     "text": [
      "mxnet: 1.6.0\n",
      "gluoncv: 0.7.0\n",
      "decord: 0.3.9\n"
     ]
    }
   ],
   "source": [
    "import mxnet as mx\n",
    "import gluoncv as gcv\n",
    "import decord\n",
    "print('mxnet:', mx.__version__)\n",
    "print('gluoncv:', gcv.__version__)\n",
    "print('decord:', decord.__version__)"
   ]
  },
  {
   "cell_type": "code",
   "execution_count": 2,
   "metadata": {},
   "outputs": [],
   "source": [
    "import matplotlib.pyplot as plt\n",
    "import numpy as np\n",
    "from mxnet import gluon, nd, image\n",
    "from mxnet.gluon.data.vision import transforms\n",
    "from gluoncv.data.transforms import video\n",
    "from gluoncv import utils\n",
    "from gluoncv.model_zoo import get_model"
   ]
  },
  {
   "cell_type": "markdown",
   "metadata": {},
   "source": [
    "## Preprocessing"
   ]
  },
  {
   "cell_type": "code",
   "execution_count": 3,
   "metadata": {},
   "outputs": [
    {
     "name": "stdout",
     "output_type": "stream",
     "text": [
      "frame list: [0, 2, 4, 6, 8, 10, 12, 14, 16, 18, 20, 22, 24, 26, 28, 30, 32, 34, 36, 38, 40, 42, 44, 46, 48, 50, 52, 54, 56, 58, 60, 62, 0, 16, 32, 48]\n",
      "clip shape: (256, 454, 3) clip_length: 36\n"
     ]
    }
   ],
   "source": [
    "url = 'https://github.com/bryanyzhu/tiny-ucf101/raw/master/abseiling_k400.mp4'\n",
    "video_fname = utils.download(url)\n",
    "vr = decord.VideoReader(video_fname)\n",
    "fast_frame_id_list = range(0, 64, 2)\n",
    "slow_frame_id_list = range(0, 64, 16)\n",
    "frame_id_list = list(fast_frame_id_list) + list(slow_frame_id_list)\n",
    "print('frame list:', frame_id_list)\n",
    "video_data = vr.get_batch(frame_id_list).asnumpy()\n",
    "clip_input = [video_data[vid, :, :, :] for vid, _ in enumerate(frame_id_list)]\n",
    "print('clip shape:', clip_input[0].shape, 'clip_length:', len(clip_input))"
   ]
  },
  {
   "cell_type": "code",
   "execution_count": 4,
   "metadata": {},
   "outputs": [
    {
     "name": "stdout",
     "output_type": "stream",
     "text": [
      "Video data is downloaded and preprocessed.\n"
     ]
    }
   ],
   "source": [
    "transform_fn = video.VideoGroupValTransform(size=224, mean=[0.485, 0.456, 0.406], std=[0.229, 0.224, 0.225])\n",
    "clip_input = transform_fn(clip_input)\n",
    "clip_input = np.stack(clip_input, axis=0)\n",
    "clip_input = clip_input.reshape((-1,) + (36, 3, 224, 224))\n",
    "clip_input = np.transpose(clip_input, (0, 2, 1, 3, 4))\n",
    "print('Video data is downloaded and preprocessed.')"
   ]
  },
  {
   "cell_type": "markdown",
   "metadata": {},
   "source": [
    "## Load model"
   ]
  },
  {
   "cell_type": "code",
   "execution_count": 5,
   "metadata": {},
   "outputs": [
    {
     "name": "stdout",
     "output_type": "stream",
     "text": [
      "slowfast_4x16_resnet50_kinetics400 model is successfully loaded.\n"
     ]
    }
   ],
   "source": [
    "model_name = 'slowfast_4x16_resnet50_kinetics400'\n",
    "net = get_model(model_name, nclass=400, pretrained=True, ctx=mx.gpu(0))\n",
    "print('%s model is successfully loaded.' % model_name)"
   ]
  },
  {
   "cell_type": "markdown",
   "metadata": {},
   "source": [
    "## Inference"
   ]
  },
  {
   "cell_type": "code",
   "execution_count": 6,
   "metadata": {},
   "outputs": [
    {
     "name": "stdout",
     "output_type": "stream",
     "text": [
      "The input video clip is classified to be\n",
      "\t[abseiling], with probability 0.996.\n",
      "\t[rock_climbing], with probability 0.004.\n",
      "\t[ice_climbing], with probability 0.000.\n",
      "\t[paragliding], with probability 0.000.\n",
      "\t[climbing_a_rope], with probability 0.000.\n"
     ]
    }
   ],
   "source": [
    "pred = net(nd.array(clip_input, ctx=mx.gpu(0)))\n",
    "\n",
    "classes = net.classes\n",
    "topK = 5\n",
    "ind = nd.topk(pred, k=topK)[0].astype('int')\n",
    "print('The input video clip is classified to be')\n",
    "for i in range(topK):\n",
    "    print('\\t[%s], with probability %.3f.'%\n",
    "          (classes[ind[i].asscalar()], nd.softmax(pred)[0][ind[i]].asscalar()))"
   ]
  },
  {
   "cell_type": "code",
   "execution_count": null,
   "metadata": {},
   "outputs": [],
   "source": []
  }
 ],
 "metadata": {
  "kernelspec": {
   "display_name": "Python 3",
   "language": "python",
   "name": "python3"
  },
  "language_info": {
   "codemirror_mode": {
    "name": "ipython",
    "version": 3
   },
   "file_extension": ".py",
   "mimetype": "text/x-python",
   "name": "python",
   "nbconvert_exporter": "python",
   "pygments_lexer": "ipython3",
   "version": "3.6.9"
  }
 },
 "nbformat": 4,
 "nbformat_minor": 4
}
